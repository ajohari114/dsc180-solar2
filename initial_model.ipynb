{
 "cells": [
  {
   "cell_type": "code",
   "execution_count": 91,
   "id": "979a5cfe",
   "metadata": {
    "scrolled": true
   },
   "outputs": [],
   "source": [
    "import pandas as pd\n",
    "import numpy as np\n",
    "from sklearn.model_selection import cross_val_score, KFold, GridSearchCV\n",
    "from sklearn.linear_model import Ridge, Lasso, ElasticNet\n",
    "from sklearn.multioutput import MultiOutputRegressor\n",
    "from sklearn.compose import ColumnTransformer\n",
    "from sklearn.preprocessing import OneHotEncoder\n",
    "from sklearn.svm import SVR\n",
    "from sklearn.ensemble import RandomForestRegressor"
   ]
  },
  {
   "cell_type": "code",
   "execution_count": 53,
   "id": "f894a6c0",
   "metadata": {},
   "outputs": [],
   "source": [
    "#Separating features and target variables\n",
    "data = pd.read_csv('dummy_data.csv')\n",
    "features = data.iloc[:, 3:-3]\n",
    "curve_x0 = data['curve_x0']\n",
    "curve_k = data['curve_k']"
   ]
  },
  {
   "cell_type": "code",
   "execution_count": 54,
   "id": "c8f14640",
   "metadata": {},
   "outputs": [],
   "source": [
    "string_columns = features.select_dtypes(include=['object','bool']).columns\n",
    "\n",
    "# Identify numeric columns\n",
    "numeric_columns = features.select_dtypes(exclude=['object','bool']).columns\n",
    "\n",
    "# Instantiate OneHotEncoder\n",
    "ohe = OneHotEncoder(sparse=False, handle_unknown='ignore')\n",
    "\n",
    "# Use ColumnTransformer to apply OneHotEncoder to string columns and pass through numeric columns\n",
    "ct = ColumnTransformer(\n",
    "    [('ohe', ohe, string_columns)],  # Apply OneHotEncoder to string and boolean columns\n",
    "    remainder='passthrough'  # Pass through numeric columns\n",
    ")\n",
    "\n",
    "# Perform one-hot encoding\n",
    "features_encoded = ct.fit_transform(features)\n",
    "\n",
    "# Convert the encoded features back to a DataFrame\n",
    "features_encoded = pd.DataFrame(features_encoded)\n"
   ]
  },
  {
   "cell_type": "code",
   "execution_count": 95,
   "id": "eecf2db4",
   "metadata": {},
   "outputs": [
    {
     "name": "stdout",
     "output_type": "stream",
     "text": [
      "Best Model (curve_x0): Ridge(alpha=0.1)\n",
      "Best CV Score (curve_x0): 13507.518118672162\n",
      "Number of Folds for Best Model (curve_x0): 2\n"
     ]
    }
   ],
   "source": [
    "# Define models: can try to change parameters if needed\n",
    "models = {\n",
    "    'Ridge Regression': (Ridge(), {'alpha': [0.1, 1.0, 10.0]}),\n",
    "    'Lasso Regression': (Lasso(), {'alpha': [0.1, 1.0, 10.0]}),\n",
    "    'Elastic Net': (ElasticNet(), {'alpha': [0.1, 1.0, 10.0], 'l1_ratio': [0.1, 0.5, 0.9]}),\n",
    "    'SVR': (SVR(), {'C': [0.1, 1.0, 10.0], 'gamma': ['scale', 'auto']}),\n",
    "    'Random Forest': (RandomForestRegressor(), {'n_estimators': [100, 200, 300], 'max_depth': [None, 10, 20]})\n",
    "}\n",
    "\n",
    "# Test different amounts of folds for cross_validation\n",
    "num_folds = [2, 3, 4, 5]\n",
    "\n",
    "# Perform cross-validation for each model, each number of folds, and each set of hyperparameters on curve_x0\n",
    "best_model = None\n",
    "best_score = float('-inf')\n",
    "for model_name, (model, param_grid) in models.items():\n",
    "    for fold in num_folds:\n",
    "        kf = KFold(n_splits=fold, shuffle=True, random_state=41)\n",
    "        \n",
    "        # Hyperparameter tuning using GridSearchCV\n",
    "        grid_search = GridSearchCV(model, param_grid, cv=kf, scoring='neg_mean_squared_error')\n",
    "        grid_search.fit(features_encoded, curve_x0)\n",
    "        \n",
    "        # Get the best model and its score\n",
    "        best_estimator = grid_search.best_estimator_\n",
    "        best_score_for_fold = -grid_search.best_score_\n",
    "        \n",
    "        \n",
    "        # Update the best model if the current model has a better score\n",
    "        if best_score_for_fold > best_score:\n",
    "            best_model = best_estimator\n",
    "            best_score = best_score_for_fold\n",
    "            best_num_folds = fold\n",
    "\n",
    "print(\"Best Model (curve_x0):\", best_model)\n",
    "print(\"Best CV Score (curve_x0):\", best_score)\n",
    "print(\"Number of Folds for Best Model (curve_x0):\", best_num_folds)"
   ]
  },
  {
   "cell_type": "code",
   "execution_count": 96,
   "id": "8c25f096",
   "metadata": {},
   "outputs": [
    {
     "name": "stdout",
     "output_type": "stream",
     "text": [
      "Best Model (curve_k): RandomForestRegressor(max_depth=10, n_estimators=200)\n",
      "Best CV Score (curve_k): 8.356652360502297e-06\n",
      "Number of Folds for Best Model (curve_k): 2\n"
     ]
    }
   ],
   "source": [
    "# Everything as before but on curve_k\n",
    "best_model = None\n",
    "best_score = float('-inf')\n",
    "for model_name, (model, param_grid) in models.items():\n",
    "    for fold in num_folds:\n",
    "        kf = KFold(n_splits=fold, shuffle=True, random_state=41)\n",
    "        \n",
    "        # Hyperparameter tuning using GridSearchCV\n",
    "        grid_search = GridSearchCV(model, param_grid, cv=kf, scoring='neg_mean_squared_error')\n",
    "        grid_search.fit(features_encoded, curve_k)\n",
    "        \n",
    "        # Get the best model and its score\n",
    "        best_estimator = grid_search.best_estimator_\n",
    "        best_score_for_fold = -grid_search.best_score_\n",
    "        \n",
    "        \n",
    "        # Update the best model if the current model has a better score\n",
    "        if best_score_for_fold > best_score:\n",
    "            best_model = best_estimator\n",
    "            best_score = best_score_for_fold\n",
    "            best_num_folds = fold\n",
    "\n",
    "print(\"Best Model (curve_k):\", best_model)\n",
    "print(\"Best CV Score (curve_k):\", best_score)\n",
    "print(\"Number of Folds for Best Model (curve_k):\", best_num_folds)"
   ]
  },
  {
   "cell_type": "code",
   "execution_count": 99,
   "id": "ae0a7d85",
   "metadata": {},
   "outputs": [
    {
     "name": "stdout",
     "output_type": "stream",
     "text": [
      "Best Model (MultiRegression): MultiOutputRegressor(estimator=RandomForestRegressor(n_estimators=200))\n",
      "Best CV Score (MultiRegression): 5872.725052652666\n",
      "Number of Folds for Best Model(MultiRegression): 4\n"
     ]
    }
   ],
   "source": [
    "#Multiregressor that uses both curve_x0 and curve_k\n",
    "y = data[['curve_x0','curve_k']]\n",
    "models = {\n",
    "    'Ridge Regression': (Ridge(), {'estimator__alpha': [0.1, 1.0, 10.0]}),\n",
    "    'Lasso Regression': (Lasso(), {'estimator__alpha': [0.1, 1.0, 10.0]}),\n",
    "    'Elastic Net': (ElasticNet(), {'estimator__alpha': [0.1, 1.0, 10.0], 'estimator__l1_ratio': [0.1, 0.5, 0.9]}),\n",
    "    'SVR': (SVR(), {'estimator__C': [1, 10, 100], 'estimator__gamma': [0.1, 1.0, 10.0]}),\n",
    "    'Random Forest': (RandomForestRegressor(), {'estimator__n_estimators': [50, 100, 200]})\n",
    "}\n",
    "best_model = None\n",
    "best_score = float('-inf')\n",
    "best_num_folds = None\n",
    "for model_name, (model, param_grid) in models.items():\n",
    "    for fold in num_folds:\n",
    "        kf = KFold(n_splits=fold, shuffle=True, random_state=42)\n",
    "        \n",
    "        # MultiOutputRegressor to handle multiple target variables\n",
    "        mor = MultiOutputRegressor(model)\n",
    "        \n",
    "        # Hyperparameter tuning using GridSearchCV\n",
    "        grid_search = GridSearchCV(mor, param_grid, cv=kf, scoring='neg_mean_squared_error')\n",
    "        grid_search.fit(features_encoded, y)\n",
    "        \n",
    "        # Get the best model and its score\n",
    "        best_estimator = grid_search.best_estimator_\n",
    "        best_score_for_fold = -grid_search.best_score_\n",
    "        \n",
    "        \n",
    "        # Update the best model if the current model has a better score\n",
    "        if best_score_for_fold > best_score:\n",
    "            best_model = best_estimator\n",
    "            best_score = best_score_for_fold\n",
    "            best_num_folds = fold\n",
    "\n",
    "print(\"Best Model (MultiRegression):\", best_model)\n",
    "print(\"Best CV Score (MultiRegression):\", best_score)\n",
    "print(\"Number of Folds for Best Model(MultiRegression):\", best_num_folds)"
   ]
  }
 ],
 "metadata": {
  "kernelspec": {
   "display_name": "Python 3 (ipykernel)",
   "language": "python",
   "name": "python3"
  },
  "language_info": {
   "codemirror_mode": {
    "name": "ipython",
    "version": 3
   },
   "file_extension": ".py",
   "mimetype": "text/x-python",
   "name": "python",
   "nbconvert_exporter": "python",
   "pygments_lexer": "ipython3",
   "version": "3.9.5"
  }
 },
 "nbformat": 4,
 "nbformat_minor": 5
}
